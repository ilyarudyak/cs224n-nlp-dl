{
 "cells": [
  {
   "cell_type": "code",
   "execution_count": 225,
   "metadata": {},
   "outputs": [
    {
     "name": "stdout",
     "output_type": "stream",
     "text": [
      "The autoreload extension is already loaded. To reload it, use:\n",
      "  %reload_ext autoreload\n"
     ]
    }
   ],
   "source": [
    "import nltk\n",
    "from HolbrookCorpus import HolbrookCorpus\n",
    "from KNBigramLanguageModel import KNBigramLanguageModel\n",
    "\n",
    "%load_ext autoreload\n",
    "%autoreload 2"
   ]
  },
  {
   "cell_type": "markdown",
   "metadata": {},
   "source": [
    "## data processing"
   ]
  },
  {
   "cell_type": "code",
   "execution_count": 171,
   "metadata": {},
   "outputs": [
    {
     "name": "stdout",
     "output_type": "stream",
     "text": [
      "<s> 1 </s>\n",
      "<s> nigel thrush page 48 </s>\n",
      "<s> i have four in my family dad mum and sister (siter) </s>\n",
      "<s> my dad works at melton </s>\n",
      "<s> my sister (siter) goes (go) to tonbury </s>\n",
      "<s> my mum goes out sometimes </s>\n",
      "<s> i go to bridgebrook i go out sometimes on tuesday night i go to youth club (clob) </s>\n",
      "<s> on thursday nights i go bellringing on saturdays i go down to the farm </s>\n",
      "<s> on sundays i go to church </s>\n",
      "<s> i go to bed at 10 o clock i watch (wakh) tv at 5 o clock i live in a house </s>\n"
     ]
    }
   ],
   "source": [
    "corpus = HolbrookCorpus('../data/holbrook-tagged-train.dat')\n",
    "for sent in corpus.corpus[:10]:\n",
    "    print(sent)"
   ]
  },
  {
   "cell_type": "code",
   "execution_count": 226,
   "metadata": {},
   "outputs": [],
   "source": [
    "clm = KNBigramLanguageModel(corpus)"
   ]
  },
  {
   "cell_type": "code",
   "execution_count": 227,
   "metadata": {},
   "outputs": [
    {
     "data": {
      "text/plain": [
       "[('the', 771), ('<s>', 659), ('</s>', 659), ('and', 466), ('to', 314)]"
      ]
     },
     "execution_count": 227,
     "metadata": {},
     "output_type": "execute_result"
    }
   ],
   "source": [
    "clm.showUnigramCounts(clm.unigramCounts, 5)"
   ]
  },
  {
   "cell_type": "code",
   "execution_count": 228,
   "metadata": {},
   "outputs": [
    {
     "data": {
      "text/plain": [
       "[(('<s>', 'the'), 94),\n",
       " (('and', 'the'), 73),\n",
       " (('to', 'the'), 71),\n",
       " (('in', 'the'), 61),\n",
       " (('<s>', 'i'), 60)]"
      ]
     },
     "execution_count": 228,
     "metadata": {},
     "output_type": "execute_result"
    }
   ],
   "source": [
    "clm.showUnigramCounts(clm.bigramCounts, 5)"
   ]
  },
  {
   "cell_type": "code",
   "execution_count": 229,
   "metadata": {},
   "outputs": [
    {
     "data": {
      "text/plain": [
       "[(('the', 'end', '</s>'), 19),\n",
       " (('<s>', 'the', 'end'), 18),\n",
       " (('went', 'to', 'the'), 17),\n",
       " (('out', 'of', 'the'), 13),\n",
       " (('the', 'old', 'man'), 10)]"
      ]
     },
     "execution_count": 229,
     "metadata": {},
     "output_type": "execute_result"
    }
   ],
   "source": [
    "clm.showUnigramCounts(clm.trigramCounts, 5)"
   ]
  },
  {
   "cell_type": "markdown",
   "metadata": {},
   "source": [
    "## kneser-ney smoothing (bigram model)"
   ]
  },
  {
   "cell_type": "markdown",
   "metadata": {},
   "source": [
    "Let's compute KN smoothed probability for bigram $(w_{i-1}, w_i)=(old, man)$: \n",
    "\n",
    "$$P_{KN}(w_i|w_{i-1})=\\frac{max(c(w_{i-1}, w_i)-d, 0)}{c(w_{i-1})}+\\lambda(w_{i-1})P_C(w_i)=T_1+T_2$$\n",
    "\n",
    "We computed them manually for each given bigram to check if precomputed probabilities are correct. Also we computed standard bigram probabilities - they should be slightly bigger than our discounted numbers."
   ]
  },
  {
   "cell_type": "code",
   "execution_count": 230,
   "metadata": {},
   "outputs": [],
   "source": [
    "bigrams = [('old', 'man'), ('one', 'day'), ('little', 'yellow')]"
   ]
  },
  {
   "cell_type": "code",
   "execution_count": 231,
   "metadata": {
    "scrolled": true
   },
   "outputs": [
    {
     "name": "stdout",
     "output_type": "stream",
     "text": [
      "manual:0.4064 precomputed:0.4064 original:0.4222\n",
      "manual:0.1276 precomputed:0.1277 original:0.1385\n",
      "manual:0.0433 precomputed:0.0433 original:0.0690\n"
     ]
    }
   ],
   "source": [
    "for bigram in bigrams:\n",
    "    print(f'manual:{clm.getKnProbManually(bigram):.4f}', \n",
    "          f'precomputed:{clm.knProbs[bigram]:.4f}', \n",
    "          f'original:{clm.bigramCounts[bigram] / clm.unigramCounts[bigram[0]]:.4f}')"
   ]
  },
  {
   "cell_type": "markdown",
   "metadata": {},
   "source": [
    "Let's print out detailed computations for bigram `('old', 'man')`. This can be used for checking manual computations."
   ]
  },
  {
   "cell_type": "code",
   "execution_count": 233,
   "metadata": {},
   "outputs": [
    {
     "name": "stdout",
     "output_type": "stream",
     "text": [
      "T1=0.4056 Pc=0.0025 lambd=0.3333 T2=0.0008\n"
     ]
    }
   ],
   "source": [
    "bigram = ('old', 'man')\n",
    "T1, Pc, lambd, T2 = clm.getKnProbManually(bigram, detailed=True)\n",
    "print(f'T1={T1:.4f}', f'Pc={Pc:.4f}', f'lambd={lambd:.4f}', f'T2={T2:.4f}')"
   ]
  },
  {
   "cell_type": "markdown",
   "metadata": {},
   "source": [
    "Let's check if we have KN probabilities for all bigrams."
   ]
  },
  {
   "cell_type": "code",
   "execution_count": 224,
   "metadata": {},
   "outputs": [
    {
     "name": "stdout",
     "output_type": "stream",
     "text": [
      "len of KN probs dictionary: 6850; len of bigrams dictionary: 6850\n"
     ]
    }
   ],
   "source": [
    "print(f'len of KN probs dictionary: {len(clm.knProbs)};', \n",
    "      f'len of bigrams dictionary: {len(clm.bigramCounts)}')"
   ]
  },
  {
   "cell_type": "code",
   "execution_count": null,
   "metadata": {},
   "outputs": [],
   "source": []
  },
  {
   "cell_type": "code",
   "execution_count": null,
   "metadata": {},
   "outputs": [],
   "source": []
  },
  {
   "cell_type": "code",
   "execution_count": null,
   "metadata": {},
   "outputs": [],
   "source": []
  },
  {
   "cell_type": "code",
   "execution_count": null,
   "metadata": {},
   "outputs": [],
   "source": []
  },
  {
   "cell_type": "code",
   "execution_count": null,
   "metadata": {},
   "outputs": [],
   "source": []
  },
  {
   "cell_type": "code",
   "execution_count": null,
   "metadata": {},
   "outputs": [],
   "source": []
  },
  {
   "cell_type": "code",
   "execution_count": null,
   "metadata": {},
   "outputs": [],
   "source": []
  },
  {
   "cell_type": "code",
   "execution_count": null,
   "metadata": {},
   "outputs": [],
   "source": []
  },
  {
   "cell_type": "code",
   "execution_count": null,
   "metadata": {},
   "outputs": [],
   "source": []
  },
  {
   "cell_type": "code",
   "execution_count": null,
   "metadata": {},
   "outputs": [],
   "source": []
  },
  {
   "cell_type": "code",
   "execution_count": null,
   "metadata": {},
   "outputs": [],
   "source": []
  },
  {
   "cell_type": "code",
   "execution_count": null,
   "metadata": {},
   "outputs": [],
   "source": []
  }
 ],
 "metadata": {
  "kernelspec": {
   "display_name": "Python 3",
   "language": "python",
   "name": "python3"
  },
  "language_info": {
   "codemirror_mode": {
    "name": "ipython",
    "version": 3
   },
   "file_extension": ".py",
   "mimetype": "text/x-python",
   "name": "python",
   "nbconvert_exporter": "python",
   "pygments_lexer": "ipython3",
   "version": "3.6.8"
  }
 },
 "nbformat": 4,
 "nbformat_minor": 2
}
